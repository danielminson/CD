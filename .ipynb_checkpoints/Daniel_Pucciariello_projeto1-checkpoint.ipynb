{
 "cells": [
  {
   "cell_type": "code",
   "execution_count": 19,
   "metadata": {},
   "outputs": [],
   "source": [
    "%matplotlib inline\n",
    "import pandas as pd\n",
    "import numpy as np\n",
    "import math as math\n",
    "from scipy import stats\n",
    "import matplotlib.pyplot as plt"
   ]
  },
  {
   "cell_type": "markdown",
   "metadata": {},
   "source": [
    "# Introdução - Ciência dos Dados #\n",
    "**Projeto 1**\n",
    "\n",
    "**Daniel Minson**\n"
   ]
  },
  {
   "cell_type": "markdown",
   "metadata": {},
   "source": [
    "Introdução:\n",
    "\n",
    "Esse projeto tem como objetivo analisar como a ação da UNAIDS em países da África em que atua desde 1996, momento em que foi fundada, vem alterando a vida da população desses países. Mais precisamente, ele pretende responder às seguintes perguntas:\n",
    "\n",
    "A ação da agencia internacional ocasionou uma diminuição significativa no índice de mortes por AIDS?\n",
    "A ação da agencia internacional pode ser correlacionada à um aumento do IDH e/ou do PIB per capita (GNP per capita)?\n",
    "\n",
    "\n"
   ]
  },
  {
   "cell_type": "code",
   "execution_count": 47,
   "metadata": {},
   "outputs": [],
   "source": [
    "IDH = pd.read_excel('hdi_human_development_index.xlsx')\n",
    "inflation = pd.read_excel('inflation_annual_percent.xlsx')\n",
    "deaths = pd.read_excel(\"Indicator_Annual number of AIDS deaths.xlsx\")\n",
    "peoplewithaids = pd.read_excel(\"indicator_hiv_plwha.xlsx\")\n",
    "expectativadevida = pd.read_excel('indicator life_expectancy_at_birth.xlsx')\n"
   ]
  },
  {
   "cell_type": "markdown",
   "metadata": {},
   "source": [
    "**Mudando os índices e renomeando colunas:**"
   ]
  },
  {
   "cell_type": "code",
   "execution_count": 48,
   "metadata": {},
   "outputs": [],
   "source": [
    "IDH= IDH.rename(columns = {\"geo\":'IDH'})\n",
    "idh_idx=IDH.set_index(\"IDH\")\n",
    "inflation= inflation.rename(columns = {\"geo\":'Inflação'})\n",
    "inflation_idx=inflation.set_index(\"Inflação\")\n",
    "deaths=deaths.rename(columns = {\"Annual number of AIDS deaths\":'Mortes'})\n",
    "deaths_idx=deaths.set_index(\"Mortes\")\n",
    "peoplewithaids=peoplewithaids.rename(columns = {\"People living with HIV\":'Pessoas com AIDS'})\n",
    "peoplewithaids_idx=peoplewithaids.set_index(\"Pessoas com AIDS\")\n",
    "expectativadevida=expectativadevida.rename(columns={\"Life expectancy\":\"Expectativa de vida\"})\n",
    "expectativadevida_idx=expectativadevida.set_index(\"Expectativa de vida\")\n"
   ]
  },
  {
   "cell_type": "markdown",
   "metadata": {},
   "source": [
    "**Comportamento dos índices nos paises x, y, z:**"
   ]
  },
  {
   "cell_type": "code",
   "execution_count": null,
   "metadata": {},
   "outputs": [],
   "source": [
    "plt.title(\"Variação dos indices com a passagem do tempo\")\n",
    "plt.plot(, , 'red', label=\"Temperatura da água em graus celsius\")\n",
    "plt.ylabel(\"IDH\")\n",
    "plt.xlabel(\"Tempo em anos\")"
   ]
  }
 ],
 "metadata": {
  "kernelspec": {
   "display_name": "Python 3",
   "language": "python",
   "name": "python3"
  },
  "language_info": {
   "codemirror_mode": {
    "name": "ipython",
    "version": 3
   },
   "file_extension": ".py",
   "mimetype": "text/x-python",
   "name": "python",
   "nbconvert_exporter": "python",
   "pygments_lexer": "ipython3",
   "version": "3.7.3"
  }
 },
 "nbformat": 4,
 "nbformat_minor": 4
}
