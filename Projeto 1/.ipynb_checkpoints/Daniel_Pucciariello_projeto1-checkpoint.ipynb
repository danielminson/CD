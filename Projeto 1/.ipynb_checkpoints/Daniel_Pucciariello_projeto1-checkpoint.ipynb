{
 "cells": [
  {
   "cell_type": "markdown",
   "metadata": {},
   "source": [
    "# Projeto 1 - Ciência dos Dados#\n",
    "\n",
    "Nome: Daniel Minson Pucciariello\n"
   ]
  },
  {
   "cell_type": "markdown",
   "metadata": {},
   "source": [
    "## Perguntas a serem respondidas\n",
    "\n",
    "Esse projeto tem como objetivo analisar como a ação da UNAIDS em países em que atua desde 1996, momento em que foi fundada, vem alterando a vida da população desses países. Mais precisamente, ele pretende responder às seguintes perguntas:\n",
    "\n",
    "A ação da agencia internacional ocasionou uma diminuição significativa no índice de mortes por AIDS, no índice de novas pessoas com AIDS e no número de pessoas que vivem com AIDS?\n",
    "A ação da agencia internacional pode ter ocasionado uma melhora sigificativa na condição de saúde dos países em que atua e aumentado a expectativa de vida dos países?\n",
    "A ação da agencia internacional foi eficiente (partindo de 2005) quando se trata de diminuir o número de mortes relativas?\n"
   ]
  },
  {
   "cell_type": "markdown",
   "metadata": {},
   "source": [
    "## Explicação da hipótese e mecanismo\n"
   ]
  },
  {
   "cell_type": "markdown",
   "metadata": {},
   "source": [
    "Anteriormente ao estudo ser realizado, se espera que a ação da UNAIDS tenha levado à uma redução significativa na taxa de mortalidade por AIDS e no número de pessoas que vive com AIDS. Se entende que uma comparação entre dados de gastos com saúde (muitas vezes maiores devido à doações internacionais muitas vezes fomentadas pela ação da UNAIDS) e a diminuição da porcentagem de mortes por AIDS possa atestar a eficiencia (ou não) da ação desse orgão internacional."
   ]
  },
  {
   "cell_type": "markdown",
   "metadata": {},
   "source": [
    "## Bases de dados usadas"
   ]
  },
  {
   "cell_type": "markdown",
   "metadata": {},
   "source": [
    "LINKS (ainda faltam alguns dados):\n",
    "\n",
    "Adultos com HIV - https://docs.google.com/spreadsheet/pub?key=pyj6tScZqmEfbZyl0qjbiRQ&output=xlsx\n",
    "\n",
    "IDH - https://docs.google.com/spreadsheet/pub?key=tyadrylIpQ1K_iHP407374Q&output=xlsx\n",
    "\n",
    "População total - https://docs.google.com/spreadsheet/pub?key=phAwcNAVuyj0XOoBL_n5tAQ&output=xlsx\n",
    "\n",
    "Expectativa de vida - https://docs.google.com/spreadsheet/pub?key=phAwcNAVuyj2tPLxKvvnNPA&output=xlsx\n",
    "\n",
    "Novas Infecções por AIDS (2019) - regional (Sul e Oeste da África) - https://aidsinfo.unaids.org/?did=556c5013a60b051e114e2ff8&r=world&t=null&tb=g&bt=grli&ts=0,0&gid=556c5013a60b051e114e2ff8,556c578aa60b051e114e2ffb&gr=UNAESA\n",
    "\n",
    "Dados de novas infecções em 2017 - https://aidsinfo.unaids.org?did=554c9b9c05b5b281750af202&r=world&t=null&tb=c&bt=undefined&ts=&cl=AGO,BWA,COM,ERI,ETH,KEN,LSO,MDG,MWI,MUS,MOZ,NAM,RWA,ZAF,SSD,SWZ,UGA,TZA,ZMB,ZWE&cr=n&ct=2017&cav=Population"
   ]
  },
  {
   "cell_type": "code",
   "execution_count": 4,
   "metadata": {},
   "outputs": [],
   "source": [
    "%matplotlib inline\n",
    "import pandas as pd\n",
    "import numpy as np\n",
    "import math as math\n",
    "from scipy import stats\n",
    "import matplotlib.pyplot as plt\n",
    "plt.style.use('ggplot')"
   ]
  },
  {
   "cell_type": "code",
   "execution_count": 31,
   "metadata": {},
   "outputs": [],
   "source": [
    "deaths = pd.read_excel(\"Indicator_Annual number of AIDS deaths.xlsx\")\n",
    "peoplewithaids = pd.read_excel(\"indicator_hiv_plwha.xlsx\")\n",
    "expectativadevida = pd.read_excel('indicator life_expectancy_at_birth.xlsx')\n",
    "pibpercapita = pd.read_excel('indicator gapminder gdp_per_capita_ppp.xlsx')\n",
    "newlyinfected = pd.read_excel('Indicator_Estimated new HIV cases All ages.xlsx')\n",
    "totalpopulation = pd.read_excel(\"indicator gapminder population.xlsx\")\n",
    "#https://aidsinfo.unaids.org/\n",
    "newlyinfected_south_eastern_africa_2018 = pd.read_excel(\"New HIV infections_Number of new HIV infections_Population_2018.xlsx\")\n",
    "newlyinfected_south_eastern_africa_2017 =pd.read_excel(\"New HIV infections_Number of new HIV infections_Population_2017.xlsx\")\n",
    "receivingART_south_eastern_africa_2017 = pd.read_excel(\"Treatment cascade_People living with HIV receiving ART (#)_Population_ All ages_2017.xlsx\")\n",
    "receivingART_south_eastern_africa_2018 = pd.read_excel(\"Treatment cascade_People living with HIV receiving ART (#)_Population_ All ages_2018.xlsx\")\n",
    "livingwithHIV2017 = pd.read_excel(\"People living with HIV 2017.xlsx\")\n",
    "livingwithHIV2018 = pd.read_excel(\"People living with HIV 2018.xlsx\")"
   ]
  },
  {
   "cell_type": "markdown",
   "metadata": {},
   "source": [
    "**Mudando os índices, renomeando colunas e limpando dados:**"
   ]
  },
  {
   "cell_type": "code",
   "execution_count": 33,
   "metadata": {},
   "outputs": [],
   "source": [
    "deaths=deaths.rename(columns = {\"Annual number of AIDS deaths\":'Mortes por AIDS'})\n",
    "deaths_idx=deaths.set_index(\"Mortes por AIDS\")\n",
    "deaths_idx.columns = deaths_idx.columns.astype(int)\n",
    "deaths_idx=deaths_idx.dropna()\n",
    "\n",
    "peoplewithaids=peoplewithaids.rename(columns = {\"People living with HIV\":'Pessoas vivendo com HIV', \"1996\": 1996, \"2001\":2001})\n",
    "peoplewithaids_idx=peoplewithaids.set_index(\"Pessoas vivendo com HIV\")\n",
    "peoplewithaids_idx=peoplewithaids_idx.dropna()\n",
    "\n",
    "expectativadevida=expectativadevida.rename(columns={\"Life expectancy\":\"Expectativa de vida\"})\n",
    "expectativadevida_idx=expectativadevida.set_index(\"Expectativa de vida\")\n",
    "expectativadevida_idx=expectativadevida_idx.dropna()\n",
    "\n",
    "pibpercapita=pibpercapita.rename(columns={\"GDP per capita\":\"PIB per capita\"})\n",
    "pibpercapita_idx=pibpercapita.set_index(\"PIB per capita\")\n",
    "pibpercapita_idx=pibpercapita_idx.dropna()\n",
    "\n",
    "totalpopulation=totalpopulation.rename(columns={\"Total population\":\"População total\"})\n",
    "totalpopulation_idx=totalpopulation.set_index(\"População total\")\n",
    "totalpopulation_idx=totalpopulation_idx.dropna()\n",
    "\n",
    "newlyinfected_south_eastern_africa_2017=newlyinfected_south_eastern_africa_2017.rename(columns={\"Selected Regions\":\"Países\", \"For The Year 2017\":\"Novos infectados em 2017\"})\n",
    "newlyinfected_south_eastern_africa_idx2017=newlyinfected_south_eastern_africa_2017.set_index(\"Países\")\n",
    "\n",
    "newlyinfected_south_eastern_africa_2018=newlyinfected_south_eastern_africa_2018.rename(columns={\"Selected Regions\":\"Países\", \"For The Year 2018\":\"Novos infectados em 2018\"})\n",
    "newlyinfected_south_eastern_africa_idx2018=newlyinfected_south_eastern_africa_2018.set_index(\"Países\")\n",
    "\n",
    "receivingART_south_eastern_africa_2017=receivingART_south_eastern_africa_2017.rename(columns={\"Selected Regions\":\"Países\", \"For The Year 2017\":\"Recebendo ART em 2017\"})\n",
    "receivingART_south_eastern_africa_idx2017=receivingART_south_eastern_africa_2017.set_index(\"Países\")\n",
    "\n",
    "receivingART_south_eastern_africa_2018=receivingART_south_eastern_africa_2018.rename(columns={\"Selected Regions\":\"Países\", \"For The Year 2018\":\"Recebendo ART em 2018\"})\n",
    "receivingART_south_eastern_africa_idx2018=receivingART_south_eastern_africa_2018.set_index(\"Países\")\n",
    "\n",
    "livingwithHIV2017=livingwithHIV2017.rename(columns={\"Selected Regions\":\"Países\", \"For The Year 2017\":\"Pessoas com HIV em 2017\"})\n",
    "livingwithHIV2017_idx=livingwithHIV2017.set_index(\"Países\")\n",
    "\n",
    "livingwithHIV2018=livingwithHIV2018.rename(columns={\"Selected Regions\":\"Países\", \"For The Year 2018\":\"Pessoas com HIV em 2018\"})\n",
    "livingwithHIV2018_idx=livingwithHIV2018.set_index(\"Países\")"
   ]
  },
  {
   "cell_type": "markdown",
   "metadata": {},
   "source": [
    "**Estudo dos dados a cada 5 anos, sendo 5 anteriores e 5 posteriores ào começo da organização:**"
   ]
  },
  {
   "cell_type": "code",
   "execution_count": 15,
   "metadata": {},
   "outputs": [],
   "source": [
    "deaths_5_anos=deaths_idx.loc[:,[1991, 1996, 2001]]\n",
    "peoplewithaids_5_anos=peoplewithaids_idx.loc[:,[1991, 1996, 2001]]\n",
    "expectativadevida_5_anos=expectativadevida_idx.loc[:,[1991, 1996, 2001]]\n",
    "pibpercapita_5_anos =pibpercapita_idx.loc[:,[1991, 1996, 2001]]\n",
    "newlyinfected_5_anos =newlyinfected_idx.loc[:,[1991, 1996, 2001]]\n",
    "totalpopulation_5_anos = totalpopulation_idx.loc[:,[1991, 1996, 2001]]"
   ]
  },
  {
   "cell_type": "markdown",
   "metadata": {},
   "source": [
    "**Comparação da taxa de mortes por HIV, de 5 em 5 anos:**"
   ]
  },
  {
   "cell_type": "code",
   "execution_count": 16,
   "metadata": {},
   "outputs": [
    {
     "data": {
      "text/html": [
       "<div>\n",
       "<style scoped>\n",
       "    .dataframe tbody tr th:only-of-type {\n",
       "        vertical-align: middle;\n",
       "    }\n",
       "\n",
       "    .dataframe tbody tr th {\n",
       "        vertical-align: top;\n",
       "    }\n",
       "\n",
       "    .dataframe thead th {\n",
       "        text-align: right;\n",
       "    }\n",
       "</style>\n",
       "<table border=\"1\" class=\"dataframe\">\n",
       "  <thead>\n",
       "    <tr style=\"text-align: right;\">\n",
       "      <th></th>\n",
       "      <th>1991</th>\n",
       "      <th>1996</th>\n",
       "      <th>2001</th>\n",
       "    </tr>\n",
       "    <tr>\n",
       "      <th>Mortes por AIDS</th>\n",
       "      <th></th>\n",
       "      <th></th>\n",
       "      <th></th>\n",
       "    </tr>\n",
       "  </thead>\n",
       "  <tbody>\n",
       "    <tr>\n",
       "      <th>Afghanistan</th>\n",
       "      <td>60.0</td>\n",
       "      <td>150.0</td>\n",
       "      <td>150.0</td>\n",
       "    </tr>\n",
       "    <tr>\n",
       "      <th>Armenia</th>\n",
       "      <td>60.0</td>\n",
       "      <td>60.0</td>\n",
       "      <td>150.0</td>\n",
       "    </tr>\n",
       "    <tr>\n",
       "      <th>Australia</th>\n",
       "      <td>600.0</td>\n",
       "      <td>600.0</td>\n",
       "      <td>150.0</td>\n",
       "    </tr>\n",
       "    <tr>\n",
       "      <th>Austria</th>\n",
       "      <td>60.0</td>\n",
       "      <td>60.0</td>\n",
       "      <td>60.0</td>\n",
       "    </tr>\n",
       "    <tr>\n",
       "      <th>Azerbaijan</th>\n",
       "      <td>60.0</td>\n",
       "      <td>60.0</td>\n",
       "      <td>150.0</td>\n",
       "    </tr>\n",
       "  </tbody>\n",
       "</table>\n",
       "</div>"
      ],
      "text/plain": [
       "                  1991   1996   2001\n",
       "Mortes por AIDS                     \n",
       "Afghanistan       60.0  150.0  150.0\n",
       "Armenia           60.0   60.0  150.0\n",
       "Australia        600.0  600.0  150.0\n",
       "Austria           60.0   60.0   60.0\n",
       "Azerbaijan        60.0   60.0  150.0"
      ]
     },
     "execution_count": 16,
     "metadata": {},
     "output_type": "execute_result"
    }
   ],
   "source": [
    "deaths_5_anos.head()"
   ]
  },
  {
   "cell_type": "markdown",
   "metadata": {},
   "source": [
    "**Comparação da quantidade de pessoas que vivem com HIV, de 5 anos em 5 anos:**"
   ]
  },
  {
   "cell_type": "code",
   "execution_count": 17,
   "metadata": {},
   "outputs": [
    {
     "data": {
      "text/html": [
       "<div>\n",
       "<style scoped>\n",
       "    .dataframe tbody tr th:only-of-type {\n",
       "        vertical-align: middle;\n",
       "    }\n",
       "\n",
       "    .dataframe tbody tr th {\n",
       "        vertical-align: top;\n",
       "    }\n",
       "\n",
       "    .dataframe thead th {\n",
       "        text-align: right;\n",
       "    }\n",
       "</style>\n",
       "<table border=\"1\" class=\"dataframe\">\n",
       "  <thead>\n",
       "    <tr style=\"text-align: right;\">\n",
       "      <th></th>\n",
       "      <th>1991</th>\n",
       "      <th>1996</th>\n",
       "      <th>2001</th>\n",
       "    </tr>\n",
       "    <tr>\n",
       "      <th>Pessoas vivendo com HIV</th>\n",
       "      <th></th>\n",
       "      <th></th>\n",
       "      <th></th>\n",
       "    </tr>\n",
       "  </thead>\n",
       "  <tbody>\n",
       "    <tr>\n",
       "      <th>Afghanistan</th>\n",
       "      <td>600.0</td>\n",
       "      <td>1400.0</td>\n",
       "      <td>2000.0</td>\n",
       "    </tr>\n",
       "    <tr>\n",
       "      <th>Angola</th>\n",
       "      <td>39000.0</td>\n",
       "      <td>80000.0</td>\n",
       "      <td>130000.0</td>\n",
       "    </tr>\n",
       "    <tr>\n",
       "      <th>Argentina</th>\n",
       "      <td>31000.0</td>\n",
       "      <td>51000.0</td>\n",
       "      <td>66000.0</td>\n",
       "    </tr>\n",
       "    <tr>\n",
       "      <th>Armenia</th>\n",
       "      <td>600.0</td>\n",
       "      <td>1600.0</td>\n",
       "      <td>3500.0</td>\n",
       "    </tr>\n",
       "    <tr>\n",
       "      <th>Australia</th>\n",
       "      <td>12000.0</td>\n",
       "      <td>11000.0</td>\n",
       "      <td>13000.0</td>\n",
       "    </tr>\n",
       "  </tbody>\n",
       "</table>\n",
       "</div>"
      ],
      "text/plain": [
       "                            1991     1996      2001\n",
       "Pessoas vivendo com HIV                            \n",
       "Afghanistan                600.0   1400.0    2000.0\n",
       "Angola                   39000.0  80000.0  130000.0\n",
       "Argentina                31000.0  51000.0   66000.0\n",
       "Armenia                    600.0   1600.0    3500.0\n",
       "Australia                12000.0  11000.0   13000.0"
      ]
     },
     "execution_count": 17,
     "metadata": {},
     "output_type": "execute_result"
    }
   ],
   "source": [
    "peoplewithaids_5_anos.head()"
   ]
  },
  {
   "cell_type": "markdown",
   "metadata": {},
   "source": [
    "**Comparação da quantidade de novas pessoas infectadas com AIDS, de 5 anos em 5 anos:**"
   ]
  },
  {
   "cell_type": "code",
   "execution_count": 18,
   "metadata": {},
   "outputs": [
    {
     "data": {
      "text/html": [
       "<div>\n",
       "<style scoped>\n",
       "    .dataframe tbody tr th:only-of-type {\n",
       "        vertical-align: middle;\n",
       "    }\n",
       "\n",
       "    .dataframe tbody tr th {\n",
       "        vertical-align: top;\n",
       "    }\n",
       "\n",
       "    .dataframe thead th {\n",
       "        text-align: right;\n",
       "    }\n",
       "</style>\n",
       "<table border=\"1\" class=\"dataframe\">\n",
       "  <thead>\n",
       "    <tr style=\"text-align: right;\">\n",
       "      <th></th>\n",
       "      <th>1991</th>\n",
       "      <th>1996</th>\n",
       "      <th>2001</th>\n",
       "    </tr>\n",
       "    <tr>\n",
       "      <th>Incidencia de HIV em novas pessoas</th>\n",
       "      <th></th>\n",
       "      <th></th>\n",
       "      <th></th>\n",
       "    </tr>\n",
       "  </thead>\n",
       "  <tbody>\n",
       "    <tr>\n",
       "      <th>Angola</th>\n",
       "      <td>8500.0</td>\n",
       "      <td>15000.0</td>\n",
       "      <td>20000.0</td>\n",
       "    </tr>\n",
       "    <tr>\n",
       "      <th>Bahamas</th>\n",
       "      <td>750.0</td>\n",
       "      <td>750.0</td>\n",
       "      <td>750.0</td>\n",
       "    </tr>\n",
       "    <tr>\n",
       "      <th>Bangladesh</th>\n",
       "      <td>160.0</td>\n",
       "      <td>160.0</td>\n",
       "      <td>350.0</td>\n",
       "    </tr>\n",
       "    <tr>\n",
       "      <th>Barbados</th>\n",
       "      <td>160.0</td>\n",
       "      <td>160.0</td>\n",
       "      <td>160.0</td>\n",
       "    </tr>\n",
       "    <tr>\n",
       "      <th>Belarus</th>\n",
       "      <td>60.0</td>\n",
       "      <td>160.0</td>\n",
       "      <td>2100.0</td>\n",
       "    </tr>\n",
       "  </tbody>\n",
       "</table>\n",
       "</div>"
      ],
      "text/plain": [
       "                                      1991     1996     2001\n",
       "Incidencia de HIV em novas pessoas                          \n",
       "Angola                              8500.0  15000.0  20000.0\n",
       "Bahamas                              750.0    750.0    750.0\n",
       "Bangladesh                           160.0    160.0    350.0\n",
       "Barbados                             160.0    160.0    160.0\n",
       "Belarus                               60.0    160.0   2100.0"
      ]
     },
     "execution_count": 18,
     "metadata": {},
     "output_type": "execute_result"
    }
   ],
   "source": [
    "newlyinfected_5_anos.head()"
   ]
  },
  {
   "cell_type": "markdown",
   "metadata": {},
   "source": [
    "**Comparação da expectativa de vida, de 5 anos em 5 anos:**"
   ]
  },
  {
   "cell_type": "code",
   "execution_count": 19,
   "metadata": {},
   "outputs": [
    {
     "data": {
      "text/html": [
       "<div>\n",
       "<style scoped>\n",
       "    .dataframe tbody tr th:only-of-type {\n",
       "        vertical-align: middle;\n",
       "    }\n",
       "\n",
       "    .dataframe tbody tr th {\n",
       "        vertical-align: top;\n",
       "    }\n",
       "\n",
       "    .dataframe thead th {\n",
       "        text-align: right;\n",
       "    }\n",
       "</style>\n",
       "<table border=\"1\" class=\"dataframe\">\n",
       "  <thead>\n",
       "    <tr style=\"text-align: right;\">\n",
       "      <th></th>\n",
       "      <th>1991</th>\n",
       "      <th>1996</th>\n",
       "      <th>2001</th>\n",
       "    </tr>\n",
       "    <tr>\n",
       "      <th>Expectativa de vida</th>\n",
       "      <th></th>\n",
       "      <th></th>\n",
       "      <th></th>\n",
       "    </tr>\n",
       "  </thead>\n",
       "  <tbody>\n",
       "    <tr>\n",
       "      <th>Afghanistan</th>\n",
       "      <td>49.3</td>\n",
       "      <td>49.7</td>\n",
       "      <td>50.4</td>\n",
       "    </tr>\n",
       "    <tr>\n",
       "      <th>Albania</th>\n",
       "      <td>73.4</td>\n",
       "      <td>73.8</td>\n",
       "      <td>75.1</td>\n",
       "    </tr>\n",
       "    <tr>\n",
       "      <th>Algeria</th>\n",
       "      <td>70.5</td>\n",
       "      <td>72.1</td>\n",
       "      <td>73.5</td>\n",
       "    </tr>\n",
       "    <tr>\n",
       "      <th>American Samoa</th>\n",
       "      <td>70.2</td>\n",
       "      <td>70.7</td>\n",
       "      <td>71.7</td>\n",
       "    </tr>\n",
       "    <tr>\n",
       "      <th>Andorra</th>\n",
       "      <td>81.8</td>\n",
       "      <td>82.8</td>\n",
       "      <td>83.9</td>\n",
       "    </tr>\n",
       "  </tbody>\n",
       "</table>\n",
       "</div>"
      ],
      "text/plain": [
       "                     1991  1996  2001\n",
       "Expectativa de vida                  \n",
       "Afghanistan          49.3  49.7  50.4\n",
       "Albania              73.4  73.8  75.1\n",
       "Algeria              70.5  72.1  73.5\n",
       "American Samoa       70.2  70.7  71.7\n",
       "Andorra              81.8  82.8  83.9"
      ]
     },
     "execution_count": 19,
     "metadata": {},
     "output_type": "execute_result"
    }
   ],
   "source": [
    "expectativadevida_5_anos.head()"
   ]
  },
  {
   "cell_type": "markdown",
   "metadata": {},
   "source": [
    "**Comparação da população de cada país, de 5 anos em 5 anos:**"
   ]
  },
  {
   "cell_type": "code",
   "execution_count": 20,
   "metadata": {},
   "outputs": [
    {
     "data": {
      "text/html": [
       "<div>\n",
       "<style scoped>\n",
       "    .dataframe tbody tr th:only-of-type {\n",
       "        vertical-align: middle;\n",
       "    }\n",
       "\n",
       "    .dataframe tbody tr th {\n",
       "        vertical-align: top;\n",
       "    }\n",
       "\n",
       "    .dataframe thead th {\n",
       "        text-align: right;\n",
       "    }\n",
       "</style>\n",
       "<table border=\"1\" class=\"dataframe\">\n",
       "  <thead>\n",
       "    <tr style=\"text-align: right;\">\n",
       "      <th></th>\n",
       "      <th>1991</th>\n",
       "      <th>1996</th>\n",
       "      <th>2001</th>\n",
       "    </tr>\n",
       "    <tr>\n",
       "      <th>População total</th>\n",
       "      <th></th>\n",
       "      <th></th>\n",
       "      <th></th>\n",
       "    </tr>\n",
       "  </thead>\n",
       "  <tbody>\n",
       "    <tr>\n",
       "      <th>Afghanistan</th>\n",
       "      <td>12789374.0</td>\n",
       "      <td>17481800.0</td>\n",
       "      <td>20531160.0</td>\n",
       "    </tr>\n",
       "    <tr>\n",
       "      <th>Albania</th>\n",
       "      <td>3275438.0</td>\n",
       "      <td>3092034.0</td>\n",
       "      <td>3124093.0</td>\n",
       "    </tr>\n",
       "    <tr>\n",
       "      <th>Algeria</th>\n",
       "      <td>26554277.0</td>\n",
       "      <td>29411839.0</td>\n",
       "      <td>31590320.0</td>\n",
       "    </tr>\n",
       "    <tr>\n",
       "      <th>American Samoa</th>\n",
       "      <td>48379.0</td>\n",
       "      <td>53926.0</td>\n",
       "      <td>58176.0</td>\n",
       "    </tr>\n",
       "    <tr>\n",
       "      <th>Andorra</th>\n",
       "      <td>56674.0</td>\n",
       "      <td>64291.0</td>\n",
       "      <td>67770.0</td>\n",
       "    </tr>\n",
       "  </tbody>\n",
       "</table>\n",
       "</div>"
      ],
      "text/plain": [
       "                       1991        1996        2001\n",
       "População total                                    \n",
       "Afghanistan      12789374.0  17481800.0  20531160.0\n",
       "Albania           3275438.0   3092034.0   3124093.0\n",
       "Algeria          26554277.0  29411839.0  31590320.0\n",
       "American Samoa      48379.0     53926.0     58176.0\n",
       "Andorra             56674.0     64291.0     67770.0"
      ]
     },
     "execution_count": 20,
     "metadata": {},
     "output_type": "execute_result"
    }
   ],
   "source": [
    "totalpopulation_5_anos.head()"
   ]
  },
  {
   "cell_type": "markdown",
   "metadata": {},
   "source": [
    "**Comparação do número de pessoas com AIDS, mortes por AIDS e expectativa de vida em cada um dos países**"
   ]
  },
  {
   "cell_type": "code",
   "execution_count": 21,
   "metadata": {},
   "outputs": [],
   "source": [
    "pessoascomaids_mortesporaids= peoplewithaids_5_anos.join(deaths_5_anos, how=\"inner\", lsuffix =\"_people_w_hiv\", rsuffix = \"_mortesporaids\")"
   ]
  },
  {
   "cell_type": "code",
   "execution_count": 22,
   "metadata": {},
   "outputs": [
    {
     "data": {
      "text/html": [
       "<div>\n",
       "<style scoped>\n",
       "    .dataframe tbody tr th:only-of-type {\n",
       "        vertical-align: middle;\n",
       "    }\n",
       "\n",
       "    .dataframe tbody tr th {\n",
       "        vertical-align: top;\n",
       "    }\n",
       "\n",
       "    .dataframe thead th {\n",
       "        text-align: right;\n",
       "    }\n",
       "</style>\n",
       "<table border=\"1\" class=\"dataframe\">\n",
       "  <thead>\n",
       "    <tr style=\"text-align: right;\">\n",
       "      <th></th>\n",
       "      <th>1991_people_w_hiv</th>\n",
       "      <th>1996_people_w_hiv</th>\n",
       "      <th>2001_people_w_hiv</th>\n",
       "      <th>1991_mortesporaids</th>\n",
       "      <th>1996_mortesporaids</th>\n",
       "      <th>2001_mortesporaids</th>\n",
       "      <th>1991_expectativadevida</th>\n",
       "      <th>1996_expectativadevida</th>\n",
       "      <th>2001_expectativadevida</th>\n",
       "    </tr>\n",
       "  </thead>\n",
       "  <tbody>\n",
       "    <tr>\n",
       "      <th>Afghanistan</th>\n",
       "      <td>600.0</td>\n",
       "      <td>1400.0</td>\n",
       "      <td>2000.0</td>\n",
       "      <td>60.0</td>\n",
       "      <td>150.0</td>\n",
       "      <td>150.0</td>\n",
       "      <td>49.3</td>\n",
       "      <td>49.7</td>\n",
       "      <td>50.4</td>\n",
       "    </tr>\n",
       "    <tr>\n",
       "      <th>Armenia</th>\n",
       "      <td>600.0</td>\n",
       "      <td>1600.0</td>\n",
       "      <td>3500.0</td>\n",
       "      <td>60.0</td>\n",
       "      <td>60.0</td>\n",
       "      <td>150.0</td>\n",
       "      <td>69.7</td>\n",
       "      <td>69.4</td>\n",
       "      <td>71.4</td>\n",
       "    </tr>\n",
       "    <tr>\n",
       "      <th>Australia</th>\n",
       "      <td>12000.0</td>\n",
       "      <td>11000.0</td>\n",
       "      <td>13000.0</td>\n",
       "      <td>600.0</td>\n",
       "      <td>600.0</td>\n",
       "      <td>150.0</td>\n",
       "      <td>77.4</td>\n",
       "      <td>78.5</td>\n",
       "      <td>80.1</td>\n",
       "    </tr>\n",
       "    <tr>\n",
       "      <th>Austria</th>\n",
       "      <td>600.0</td>\n",
       "      <td>2300.0</td>\n",
       "      <td>5500.0</td>\n",
       "      <td>60.0</td>\n",
       "      <td>60.0</td>\n",
       "      <td>60.0</td>\n",
       "      <td>75.8</td>\n",
       "      <td>77.1</td>\n",
       "      <td>78.6</td>\n",
       "    </tr>\n",
       "    <tr>\n",
       "      <th>Azerbaijan</th>\n",
       "      <td>160.0</td>\n",
       "      <td>600.0</td>\n",
       "      <td>3000.0</td>\n",
       "      <td>60.0</td>\n",
       "      <td>60.0</td>\n",
       "      <td>150.0</td>\n",
       "      <td>65.3</td>\n",
       "      <td>65.0</td>\n",
       "      <td>67.2</td>\n",
       "    </tr>\n",
       "  </tbody>\n",
       "</table>\n",
       "</div>"
      ],
      "text/plain": [
       "             1991_people_w_hiv  1996_people_w_hiv  2001_people_w_hiv  \\\n",
       "Afghanistan              600.0             1400.0             2000.0   \n",
       "Armenia                  600.0             1600.0             3500.0   \n",
       "Australia              12000.0            11000.0            13000.0   \n",
       "Austria                  600.0             2300.0             5500.0   \n",
       "Azerbaijan               160.0              600.0             3000.0   \n",
       "\n",
       "             1991_mortesporaids  1996_mortesporaids  2001_mortesporaids  \\\n",
       "Afghanistan                60.0               150.0               150.0   \n",
       "Armenia                    60.0                60.0               150.0   \n",
       "Australia                 600.0               600.0               150.0   \n",
       "Austria                    60.0                60.0                60.0   \n",
       "Azerbaijan                 60.0                60.0               150.0   \n",
       "\n",
       "             1991_expectativadevida  1996_expectativadevida  \\\n",
       "Afghanistan                    49.3                    49.7   \n",
       "Armenia                        69.7                    69.4   \n",
       "Australia                      77.4                    78.5   \n",
       "Austria                        75.8                    77.1   \n",
       "Azerbaijan                     65.3                    65.0   \n",
       "\n",
       "             2001_expectativadevida  \n",
       "Afghanistan                    50.4  \n",
       "Armenia                        71.4  \n",
       "Australia                      80.1  \n",
       "Austria                        78.6  \n",
       "Azerbaijan                     67.2  "
      ]
     },
     "execution_count": 22,
     "metadata": {},
     "output_type": "execute_result"
    }
   ],
   "source": [
    "expectativadevida_5_anos_suffix=expectativadevida_5_anos.add_suffix('_expectativadevida')\n",
    "pessoascomaids_mortesporaids_expectativadevida=pessoascomaids_mortesporaids.join(expectativadevida_5_anos_suffix, how=\"inner\")\n",
    "pessoascomaids_mortesporaids_expectativadevida.head()"
   ]
  },
  {
   "cell_type": "markdown",
   "metadata": {},
   "source": [
    "**Junção de várias tabelas - apresenta número de pessoas vivendo com AIDS, o número de pessoas mortas por AIDS, número de novos infectados e a população mundial naquele momento, além de dados como PIB per cápita e IDH**"
   ]
  },
  {
   "cell_type": "code",
   "execution_count": 25,
   "metadata": {},
   "outputs": [],
   "source": [
    "suffix_newlyinfected_5_anos= newlyinfected_5_anos.add_suffix('_novosinfectados')\n",
    "suffix_totalpopulation_5_anos=totalpopulation_5_anos.add_suffix('_população_total')\n",
    "juncaodosdados=pessoascomaids_mortesporaids.join(suffix_newlyinfected_5_anos, how=\"inner\")\n",
    "juncaodosdados=juncaodosdados.join(suffix_totalpopulation_5_anos, how=\"inner\")"
   ]
  },
  {
   "cell_type": "markdown",
   "metadata": {},
   "source": [
    "## Análise de dados"
   ]
  },
  {
   "cell_type": "markdown",
   "metadata": {},
   "source": [
    "Insira abaixo uma análise de dados tratada para ter maior clareza. \n",
    "\n",
    "Lembre-se de que, além deste arquivo principal, você precisa entregar um ou mais *notebooks* mais brutos com todas as tentativas que fez e que não deram certo .\n",
    "\n",
    "**Não inclua dados ou gráficos sem motivação nem interpretação** - sempre que fizer uma análise, plot ou tablea, diga qual sua intenção. Logo após a apresentação diga qual conclusão específica ou interpretação você tira daquela análise"
   ]
  },
  {
   "cell_type": "markdown",
   "metadata": {},
   "source": [
    "**Gráfico de comportamento do comportamento de valores absolutos médios acerca da quantidade de pessoas com AIDS com o passar do anos**\n",
    "\n"
   ]
  },
  {
   "cell_type": "code",
   "execution_count": 17,
   "metadata": {},
   "outputs": [
    {
     "data": {
      "text/plain": [
       "[<matplotlib.lines.Line2D at 0x2574a7a5828>]"
      ]
     },
     "execution_count": 17,
     "metadata": {},
     "output_type": "execute_result"
    },
    {
     "data": {
      "image/png": "[encoded data removed]",
      "text/plain": [
       "<Figure size 432x288 with 1 Axes>"
      ]
     },
     "metadata": {
      "needs_background": "light"
     },
     "output_type": "display_data"
    }
   ],
   "source": [
    "plt.plot(peoplewithaids_idx.mean().index, peoplewithaids_idx.mean())"
   ]
  },
  {
   "cell_type": "markdown",
   "metadata": {},
   "source": [
    "**Gráfico de comportamento relativo ao longo dos anos - PESSOAS COM AIDS**"
   ]
  },
  {
   "cell_type": "code",
   "execution_count": 18,
   "metadata": {},
   "outputs": [
    {
     "data": {
      "text/plain": [
       "[<matplotlib.lines.Line2D at 0x2574bb3dcf8>]"
      ]
     },
     "execution_count": 18,
     "metadata": {},
     "output_type": "execute_result"
    },
    {
     "data": {
      "image/png": "[encoded data removed]",
      "text/plain": [
       "<Figure size 432x288 with 1 Axes>"
      ]
     },
     "metadata": {
      "needs_background": "light"
     },
     "output_type": "display_data"
    }
   ],
   "source": [
    "#plt.plot(peoplewithaids_idx.mean().index, peoplewithaids_idx.mean())\n",
    "peoplewithaids_kkk = peoplewithaids_idx.apply(pd.to_numeric)\n",
    "totalpopulation_kkk = totalpopulation_idx.apply(pd.to_numeric)\n",
    "peoplewithaids_kkk.columns = peoplewithaids_kkk.columns.astype(int)\n",
    "totalpopulation_kkk.columns = totalpopulation_kkk.columns.astype(int)\n",
    "\n",
    "#peoplewithaids_kkk[2002]\n",
    "comportamentorelativo_peoplewithaids= peoplewithaids_kkk/totalpopulation_kkk\n",
    "\n",
    "plt.plot(comportamentorelativo_peoplewithaids.mean().index, comportamentorelativo_peoplewithaids.mean())"
   ]
  },
  {
   "cell_type": "markdown",
   "metadata": {},
   "source": [
    "**Gráfico de comportamento das mortes absolutas ao longo dos anos**\n",
    "\n"
   ]
  },
  {
   "cell_type": "code",
   "execution_count": 19,
   "metadata": {},
   "outputs": [
    {
     "data": {
      "text/plain": [
       "[<matplotlib.lines.Line2D at 0x2574bbba3c8>]"
      ]
     },
     "execution_count": 19,
     "metadata": {},
     "output_type": "execute_result"
    },
    {
     "data": {
      "image/png": "[encoded data removed]",
      "text/plain": [
       "<Figure size 432x288 with 1 Axes>"
      ]
     },
     "metadata": {
      "needs_background": "light"
     },
     "output_type": "display_data"
    }
   ],
   "source": [
    "deaths_kkk = deaths_idx.apply(pd.to_numeric)\n",
    "deaths_kkk.columns = deaths_kkk.columns.astype(int)\n",
    "\n",
    "#testandosamerda[testandosamerda.columns[0:15]]\n",
    "#peoplewithaids_kkk[2002]\n",
    "comportamentorelativo_mortes= deaths_kkk/totalpopulation_kkk\n",
    "\n",
    "plt.plot(deaths_kkk.mean().index, deaths_kkk.mean())"
   ]
  },
  {
   "cell_type": "markdown",
   "metadata": {},
   "source": [
    "**Comportamento relativo médio - MORTE - todos os países**"
   ]
  },
  {
   "cell_type": "code",
   "execution_count": 20,
   "metadata": {},
   "outputs": [
    {
     "data": {
      "text/plain": [
       "[<matplotlib.lines.Line2D at 0x2574bc11780>]"
      ]
     },
     "execution_count": 20,
     "metadata": {},
     "output_type": "execute_result"
    },
    {
     "data": {
      "image/png": "[encoded data removed]",
      "text/plain": [
       "<Figure size 432x288 with 1 Axes>"
      ]
     },
     "metadata": {
      "needs_background": "light"
     },
     "output_type": "display_data"
    }
   ],
   "source": [
    "plt.plot(comportamentorelativo_mortes.mean().index, comportamentorelativo_mortes.mean())\n"
   ]
  },
  {
   "cell_type": "markdown",
   "metadata": {},
   "source": [
    "**Gráfico de comportamento de novos infectados ao longo dos anos**\n",
    "\n"
   ]
  },
  {
   "cell_type": "code",
   "execution_count": 21,
   "metadata": {},
   "outputs": [
    {
     "data": {
      "text/plain": [
       "[<matplotlib.lines.Line2D at 0x2574bc764a8>]"
      ]
     },
     "execution_count": 21,
     "metadata": {},
     "output_type": "execute_result"
    },
    {
     "data": {
      "image/png": "[encoded data removed]",
      "text/plain": [
       "<Figure size 432x288 with 1 Axes>"
      ]
     },
     "metadata": {
      "needs_background": "light"
     },
     "output_type": "display_data"
    }
   ],
   "source": [
    "newlyinfected_idx = newlyinfected_idx.apply(pd.to_numeric)\n",
    "newlyinfected_idx.columns = newlyinfected_idx.columns.astype(int)\n",
    "\n",
    "#testandosamerda[testandosamerda.columns[0:15]]\n",
    "comportamentorelativo_novosinfectados= newlyinfected_idx/totalpopulation_kkk\n",
    "\n",
    "plt.plot(newlyinfected_idx.mean().index, deaths_kkk.mean())"
   ]
  },
  {
   "cell_type": "markdown",
   "metadata": {},
   "source": [
    "**Comportamento relativo médio - NOVAS INFECÇÕES - todos os países**"
   ]
  },
  {
   "cell_type": "code",
   "execution_count": 22,
   "metadata": {},
   "outputs": [
    {
     "data": {
      "text/plain": [
       "[<matplotlib.lines.Line2D at 0x2574bcd2828>]"
      ]
     },
     "execution_count": 22,
     "metadata": {},
     "output_type": "execute_result"
    },
    {
     "data": {
      "image/png": "[encoded data removed]",
      "text/plain": [
       "<Figure size 432x288 with 1 Axes>"
      ]
     },
     "metadata": {
      "needs_background": "light"
     },
     "output_type": "display_data"
    }
   ],
   "source": [
    "plt.plot(comportamentorelativo_novosinfectados.mean().index, comportamentorelativo_novosinfectados.mean())"
   ]
  },
  {
   "cell_type": "code",
   "execution_count": 35,
   "metadata": {},
   "outputs": [
    {
     "data": {
      "text/html": [
       "<div>\n",
       "<style scoped>\n",
       "    .dataframe tbody tr th:only-of-type {\n",
       "        vertical-align: middle;\n",
       "    }\n",
       "\n",
       "    .dataframe tbody tr th {\n",
       "        vertical-align: top;\n",
       "    }\n",
       "\n",
       "    .dataframe thead th {\n",
       "        text-align: right;\n",
       "    }\n",
       "</style>\n",
       "<table border=\"1\" class=\"dataframe\">\n",
       "  <thead>\n",
       "    <tr style=\"text-align: right;\">\n",
       "      <th></th>\n",
       "      <th>Recebendo ART em 2017</th>\n",
       "      <th>Recebendo ART em 2018</th>\n",
       "      <th>Novos infectados em 2017</th>\n",
       "      <th>Novos infectados em 2018</th>\n",
       "      <th>Pessoas com HIV em 2017</th>\n",
       "      <th>Pessoas com HIV em 2018</th>\n",
       "    </tr>\n",
       "    <tr>\n",
       "      <th>Países</th>\n",
       "      <th></th>\n",
       "      <th></th>\n",
       "      <th></th>\n",
       "      <th></th>\n",
       "      <th></th>\n",
       "      <th></th>\n",
       "    </tr>\n",
       "  </thead>\n",
       "  <tbody>\n",
       "    <tr>\n",
       "      <th>Angola</th>\n",
       "      <td>78721</td>\n",
       "      <td>88734</td>\n",
       "      <td>29000</td>\n",
       "      <td>28000</td>\n",
       "      <td>320000</td>\n",
       "      <td>330000</td>\n",
       "    </tr>\n",
       "    <tr>\n",
       "      <th>Botswana</th>\n",
       "      <td>285983</td>\n",
       "      <td>307377</td>\n",
       "      <td>9000</td>\n",
       "      <td>8500</td>\n",
       "      <td>370000</td>\n",
       "      <td>370000</td>\n",
       "    </tr>\n",
       "    <tr>\n",
       "      <th>Comoros</th>\n",
       "      <td>95</td>\n",
       "      <td>96</td>\n",
       "      <td>0</td>\n",
       "      <td>0</td>\n",
       "      <td>120</td>\n",
       "      <td>120</td>\n",
       "    </tr>\n",
       "    <tr>\n",
       "      <th>Eritrea</th>\n",
       "      <td>8795</td>\n",
       "      <td>8907</td>\n",
       "      <td>610</td>\n",
       "      <td>580</td>\n",
       "      <td>18000</td>\n",
       "      <td>18000</td>\n",
       "    </tr>\n",
       "    <tr>\n",
       "      <th>Ethiopia</th>\n",
       "      <td>437555</td>\n",
       "      <td>449962</td>\n",
       "      <td>23000</td>\n",
       "      <td>23000</td>\n",
       "      <td>680000</td>\n",
       "      <td>690000</td>\n",
       "    </tr>\n",
       "  </tbody>\n",
       "</table>\n",
       "</div>"
      ],
      "text/plain": [
       "          Recebendo ART em 2017  Recebendo ART em 2018  \\\n",
       "Países                                                   \n",
       "Angola                    78721                  88734   \n",
       "Botswana                 285983                 307377   \n",
       "Comoros                      95                     96   \n",
       "Eritrea                    8795                   8907   \n",
       "Ethiopia                 437555                 449962   \n",
       "\n",
       "          Novos infectados em 2017  Novos infectados em 2018  \\\n",
       "Países                                                         \n",
       "Angola                       29000                     28000   \n",
       "Botswana                      9000                      8500   \n",
       "Comoros                          0                         0   \n",
       "Eritrea                        610                       580   \n",
       "Ethiopia                     23000                     23000   \n",
       "\n",
       "          Pessoas com HIV em 2017  Pessoas com HIV em 2018  \n",
       "Países                                                      \n",
       "Angola                     320000                   330000  \n",
       "Botswana                   370000                   370000  \n",
       "Comoros                       120                      120  \n",
       "Eritrea                     18000                    18000  \n",
       "Ethiopia                   680000                   690000  "
      ]
     },
     "execution_count": 35,
     "metadata": {},
     "output_type": "execute_result"
    }
   ],
   "source": [
    "juncaodosdados=receivingART_south_eastern_africa_idx2017.join(receivingART_south_eastern_africa_idx2018, how=\"inner\")\n",
    "juncaodosdados=juncaodosdados.join(newlyinfected_south_eastern_africa_idx2017, how=\"inner\")\n",
    "juncaodosdados=juncaodosdados.join(newlyinfected_south_eastern_africa_idx2018, how=\"inner\")\n",
    "juncaodosdados=juncaodosdados.join(livingwithHIV2017_idx, how=\"inner\")\n",
    "juncaodosdados=juncaodosdados.join(livingwithHIV2018_idx, how=\"inner\")\n",
    "juncaodosdados.head()"
   ]
  },
  {
   "cell_type": "code",
   "execution_count": 37,
   "metadata": {},
   "outputs": [
    {
     "data": {
      "text/html": [
       "<div>\n",
       "<style scoped>\n",
       "    .dataframe tbody tr th:only-of-type {\n",
       "        vertical-align: middle;\n",
       "    }\n",
       "\n",
       "    .dataframe tbody tr th {\n",
       "        vertical-align: top;\n",
       "    }\n",
       "\n",
       "    .dataframe thead th {\n",
       "        text-align: right;\n",
       "    }\n",
       "</style>\n",
       "<table border=\"1\" class=\"dataframe\">\n",
       "  <thead>\n",
       "    <tr style=\"text-align: right;\">\n",
       "      <th></th>\n",
       "      <th>Recebendo ART em 2017</th>\n",
       "      <th>Recebendo ART em 2018</th>\n",
       "      <th>Novos infectados em 2017</th>\n",
       "      <th>Novos infectados em 2018</th>\n",
       "      <th>Pessoas com HIV em 2017</th>\n",
       "      <th>Pessoas com HIV em 2018</th>\n",
       "      <th>livingwithHIV2017_idx</th>\n",
       "      <th>livingwithHIV2018_idx</th>\n",
       "      <th>selftestavailable</th>\n",
       "    </tr>\n",
       "    <tr>\n",
       "      <th>Países</th>\n",
       "      <th></th>\n",
       "      <th></th>\n",
       "      <th></th>\n",
       "      <th></th>\n",
       "      <th></th>\n",
       "      <th></th>\n",
       "      <th></th>\n",
       "      <th></th>\n",
       "      <th></th>\n",
       "    </tr>\n",
       "  </thead>\n",
       "  <tbody>\n",
       "    <tr>\n",
       "      <th>Angola</th>\n",
       "      <td>78721</td>\n",
       "      <td>88734</td>\n",
       "      <td>29000</td>\n",
       "      <td>28000</td>\n",
       "      <td>320000</td>\n",
       "      <td>330000</td>\n",
       "      <td>320000</td>\n",
       "      <td>330000</td>\n",
       "      <td>não</td>\n",
       "    </tr>\n",
       "    <tr>\n",
       "      <th>Botswana</th>\n",
       "      <td>285983</td>\n",
       "      <td>307377</td>\n",
       "      <td>9000</td>\n",
       "      <td>8500</td>\n",
       "      <td>370000</td>\n",
       "      <td>370000</td>\n",
       "      <td>370000</td>\n",
       "      <td>370000</td>\n",
       "      <td>não</td>\n",
       "    </tr>\n",
       "    <tr>\n",
       "      <th>Comoros</th>\n",
       "      <td>95</td>\n",
       "      <td>96</td>\n",
       "      <td>0</td>\n",
       "      <td>0</td>\n",
       "      <td>120</td>\n",
       "      <td>120</td>\n",
       "      <td>120</td>\n",
       "      <td>120</td>\n",
       "      <td>sim</td>\n",
       "    </tr>\n",
       "    <tr>\n",
       "      <th>Eritrea</th>\n",
       "      <td>8795</td>\n",
       "      <td>8907</td>\n",
       "      <td>610</td>\n",
       "      <td>580</td>\n",
       "      <td>18000</td>\n",
       "      <td>18000</td>\n",
       "      <td>18000</td>\n",
       "      <td>18000</td>\n",
       "      <td>sim</td>\n",
       "    </tr>\n",
       "    <tr>\n",
       "      <th>Ethiopia</th>\n",
       "      <td>437555</td>\n",
       "      <td>449962</td>\n",
       "      <td>23000</td>\n",
       "      <td>23000</td>\n",
       "      <td>680000</td>\n",
       "      <td>690000</td>\n",
       "      <td>680000</td>\n",
       "      <td>690000</td>\n",
       "      <td>não</td>\n",
       "    </tr>\n",
       "  </tbody>\n",
       "</table>\n",
       "</div>"
      ],
      "text/plain": [
       "          Recebendo ART em 2017  Recebendo ART em 2018  \\\n",
       "Países                                                   \n",
       "Angola                    78721                  88734   \n",
       "Botswana                 285983                 307377   \n",
       "Comoros                      95                     96   \n",
       "Eritrea                    8795                   8907   \n",
       "Ethiopia                 437555                 449962   \n",
       "\n",
       "          Novos infectados em 2017  Novos infectados em 2018  \\\n",
       "Países                                                         \n",
       "Angola                       29000                     28000   \n",
       "Botswana                      9000                      8500   \n",
       "Comoros                          0                         0   \n",
       "Eritrea                        610                       580   \n",
       "Ethiopia                     23000                     23000   \n",
       "\n",
       "          Pessoas com HIV em 2017  Pessoas com HIV em 2018  \\\n",
       "Países                                                       \n",
       "Angola                     320000                   330000   \n",
       "Botswana                   370000                   370000   \n",
       "Comoros                       120                      120   \n",
       "Eritrea                     18000                    18000   \n",
       "Ethiopia                   680000                   690000   \n",
       "\n",
       "          livingwithHIV2017_idx  livingwithHIV2018_idx selftestavailable  \n",
       "Países                                                                    \n",
       "Angola                   320000                 330000               não  \n",
       "Botswana                 370000                 370000               não  \n",
       "Comoros                     120                    120               sim  \n",
       "Eritrea                   18000                  18000               sim  \n",
       "Ethiopia                 680000                 690000               não  "
      ]
     },
     "execution_count": 37,
     "metadata": {},
     "output_type": "execute_result"
    }
   ],
   "source": [
    "listapaises_analise = ['Angola',  'Ethiopia',  'Kenya',  'Lesotho',    'Malawi', 'Namibia',  'Rwanda', 'South Africa',  'Uganda',   'Zimbabwe', 'Madagascar','Mauritius','Sudan']\n",
    "selftest_not_available=[\"Angola\", \"Ethiopia\", \"Rwanda\", 'Uganda', 'Zambia','Botswana',]\n",
    "\n",
    "juncaodosdados[\"livingwithHIV2017_idx\"] = livingwithHIV2017_idx\n",
    "juncaodosdados[\"livingwithHIV2018_idx\"] = livingwithHIV2018_idx\n",
    "\n",
    "juncaodosdados.loc[:, \"selftestavailable\"] = \"sim\"\n",
    "juncaodosdados.loc[selftest_not_available, \"selftestavailable\"] = \"não\"\n",
    "juncaodosdados.head()"
   ]
  },
  {
   "cell_type": "code",
   "execution_count": null,
   "metadata": {},
   "outputs": [],
   "source": []
  },
  {
   "cell_type": "markdown",
   "metadata": {},
   "source": [
    "## Conclusão"
   ]
  },
  {
   "cell_type": "markdown",
   "metadata": {},
   "source": [
    "Responda à pergunta, argumento da melhor forma possível com base nos dados"
   ]
  },
  {
   "cell_type": "code",
   "execution_count": null,
   "metadata": {},
   "outputs": [],
   "source": []
  }
 ],
 "metadata": {
  "kernelspec": {
   "display_name": "Python 3",
   "language": "python",
   "name": "python3"
  },
  "language_info": {
   "codemirror_mode": {
    "name": "ipython",
    "version": 3
   },
   "file_extension": ".py",
   "mimetype": "text/x-python",
   "name": "python",
   "nbconvert_exporter": "python",
   "pygments_lexer": "ipython3",
   "version": "3.7.3"
  }
 },
 "nbformat": 4,
 "nbformat_minor": 4
}
